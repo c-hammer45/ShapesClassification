{
 "cells": [
  {
   "cell_type": "markdown",
   "id": "da4158ef",
   "metadata": {},
   "source": [
    "# Classification of Images of Geometric Shapes"
   ]
  },
  {
   "cell_type": "markdown",
   "id": "5b730402",
   "metadata": {},
   "source": [
    "## 1. Import necessary packages"
   ]
  },
  {
   "cell_type": "code",
   "execution_count": 160,
   "id": "223200ec",
   "metadata": {},
   "outputs": [],
   "source": [
    "import pandas as pd\n",
    "import numpy as np\n",
    "import os\n",
    "import matplotlib.pyplot as plt\n",
    "from matplotlib import image as mpimg\n",
    "import cv2\n",
    "\n",
    "from keras.utils import to_categorical, load_img\n",
    "from keras.layers import Dense,Conv2D,Flatten,MaxPool2D,Dropout\n",
    "from keras.models import Sequential\n",
    "from keras.callbacks import EarlyStopping\n",
    "from keras.regularizers import l2\n",
    "\n",
    "from sklearn.utils import shuffle\n",
    "from sklearn.model_selection import train_test_split"
   ]
  },
  {
   "cell_type": "markdown",
   "id": "2f36c679",
   "metadata": {},
   "source": [
    "## 2. Load in the data"
   ]
  },
  {
   "cell_type": "code",
   "execution_count": 161,
   "id": "79fdd636",
   "metadata": {
    "scrolled": true
   },
   "outputs": [
    {
     "name": "stdout",
     "output_type": "stream",
     "text": [
      "(100, 100)\n"
     ]
    },
    {
     "data": {
      "image/png": "[encoded data removed]",
      "text/plain": [
       "<Figure size 432x288 with 1 Axes>"
      ]
     },
     "metadata": {
      "needs_background": "light"
     },
     "output_type": "display_data"
    }
   ],
   "source": [
    "data_direc = 'geometric shapes dataset'\n",
    "classes = []\n",
    "#Obtain the name of the class directories we will work with\n",
    "for i in os.listdir(data_direc):\n",
    "    classes.append(i)\n",
    "\n",
    "#read in images from separate class directories\n",
    "data = []\n",
    "class_labels = []\n",
    "scale_factor = 0.5\n",
    "\n",
    "label = 0\n",
    "for i in classes:\n",
    "    path = data_direc+'/'+str(i)\n",
    "    images = os.listdir(path)\n",
    "    for img in images:\n",
    "        image = cv2.imread(path+'/'+img,0) #read in the image in greyscale to reduce computation time\n",
    "        size = (int(image.shape[1] * scale_factor), int(image.shape[0] * scale_factor)) \n",
    "        image = cv2.resize(image, size, interpolation=cv2.INTER_AREA) #resize using aspect ratio\n",
    "        image = np.array(image)\n",
    "        data.append(image) #add image to dataset\n",
    "        class_labels.append(label) #add associated integer label to class_labels list\n",
    "    label = label + 1\n",
    "\n",
    "plt.imshow(data[29999], cmap='gray')\n",
    "print(data[29999].shape)"
   ]
  },
  {
   "cell_type": "markdown",
   "id": "6714534d",
   "metadata": {},
   "source": [
    "## 3. Split data into training and testing"
   ]
  },
  {
   "cell_type": "code",
   "execution_count": 162,
   "id": "35da7eed",
   "metadata": {},
   "outputs": [
    {
     "name": "stdout",
     "output_type": "stream",
     "text": [
      "(22500, 100, 100, 1)\n",
      "(7500, 100, 100, 1)\n",
      "(22500, 3)\n",
      "(7500, 3)\n"
     ]
    }
   ],
   "source": [
    "#Convert images and labels to numpy arrays\n",
    "training_images = np.array(data)\n",
    "training_labels = np.array(class_labels)\n",
    "\n",
    "#Convert labels into One-Hot Encoded labels\n",
    "training_labels = to_categorical(training_labels, num_classes = 3)\n",
    "\n",
    "#Split into training and testing data\n",
    "x_train, x_test, y_train, y_test = train_test_split(training_images, training_labels,   \n",
    "                                                    test_size = 0.25, random_state = 42, shuffle=True)\n",
    "\n",
    "#Regularize images to ease computation\n",
    "x_train = x_train/255\n",
    "x_test = x_test/255\n",
    "\n",
    "#Reshape, adding a channels dimension\n",
    "x_train = x_train.reshape(-1,100,100,1)\n",
    "x_test = x_test.reshape(-1,100,100,1)\n",
    "\n",
    "#Verify dimensions of training and testing sets\n",
    "print(x_train.shape)\n",
    "print(x_test.shape)\n",
    "print(y_train.shape)\n",
    "print(y_test.shape)"
   ]
  },
  {
   "cell_type": "markdown",
   "id": "bcf2052a",
   "metadata": {},
   "source": [
    "## 4. Data Augmentation to prevent overfitting"
   ]
  },
  {
   "cell_type": "code",
   "execution_count": 163,
   "id": "40e3ef17",
   "metadata": {},
   "outputs": [],
   "source": [
    "#add data augmentation to prevent overfitting"
   ]
  },
  {
   "cell_type": "markdown",
   "id": "a71e3352",
   "metadata": {},
   "source": [
    "## 5. Convolutional Neural Network Setup"
   ]
  },
  {
   "cell_type": "code",
   "execution_count": 164,
   "id": "acb5f937",
   "metadata": {},
   "outputs": [],
   "source": [
    "model = Sequential()\n",
    "model.add(Conv2D(filters = 16, kernel_size = 3, padding = \"same\", activation = \"relu\", input_shape = (100,100,1)))\n",
    "model.add(MaxPool2D(pool_size = 2))\n",
    "model.add(Conv2D(filters = 32, kernel_size = 3, padding = \"same\", activation = \"relu\"))\n",
    "model.add(MaxPool2D(pool_size = 2))\n",
    "model.add(Conv2D(filters = 64, kernel_size = 3, padding = \"same\", activation = \"relu\"))\n",
    "model.add(MaxPool2D(pool_size = 2))\n",
    "\n",
    "#ADD SOMETHING TO DEAL WITH LEARNING RATE\n",
    "\n",
    "#fully connected neural network\n",
    "model.add(Flatten())\n",
    "model.add(Dense(64, activation = \"relu\"))\n",
    "model.add(Dense(3, activation = \"softmax\"))"
   ]
  },
  {
   "cell_type": "markdown",
   "id": "795e0476",
   "metadata": {},
   "source": [
    "## 6. Compile and fit the model"
   ]
  },
  {
   "cell_type": "code",
   "execution_count": 165,
   "id": "7870216c",
   "metadata": {
    "scrolled": false
   },
   "outputs": [
    {
     "name": "stdout",
     "output_type": "stream",
     "text": [
      "Epoch 1/20\n",
      "176/176 [==============================] - 33s 183ms/step - loss: 1.0110 - accuracy: 0.4636 - val_loss: 0.9177 - val_accuracy: 0.5667\n",
      "Epoch 2/20\n",
      "176/176 [==============================] - 32s 180ms/step - loss: 0.8202 - accuracy: 0.6135 - val_loss: 0.6973 - val_accuracy: 0.6940\n",
      "Epoch 3/20\n",
      "176/176 [==============================] - 33s 188ms/step - loss: 0.6140 - accuracy: 0.7276 - val_loss: 0.5579 - val_accuracy: 0.7495\n",
      "Epoch 4/20\n",
      "176/176 [==============================] - 33s 187ms/step - loss: 0.4796 - accuracy: 0.7960 - val_loss: 0.4413 - val_accuracy: 0.8167\n",
      "Epoch 5/20\n",
      "176/176 [==============================] - 34s 191ms/step - loss: 0.3831 - accuracy: 0.8470 - val_loss: 0.3729 - val_accuracy: 0.8548\n",
      "Epoch 6/20\n",
      "176/176 [==============================] - 37s 209ms/step - loss: 0.3184 - accuracy: 0.8755 - val_loss: 0.3282 - val_accuracy: 0.8652\n",
      "Epoch 7/20\n",
      "176/176 [==============================] - 33s 188ms/step - loss: 0.2688 - accuracy: 0.8937 - val_loss: 0.3031 - val_accuracy: 0.8647\n",
      "Epoch 8/20\n",
      "176/176 [==============================] - 32s 184ms/step - loss: 0.2271 - accuracy: 0.9134 - val_loss: 0.2478 - val_accuracy: 0.8972\n",
      "Epoch 9/20\n",
      "176/176 [==============================] - 33s 186ms/step - loss: 0.2109 - accuracy: 0.9176 - val_loss: 0.2252 - val_accuracy: 0.9164\n",
      "Epoch 10/20\n",
      "176/176 [==============================] - 33s 189ms/step - loss: 0.1695 - accuracy: 0.9391 - val_loss: 0.2016 - val_accuracy: 0.9313\n",
      "Epoch 11/20\n",
      "176/176 [==============================] - 33s 186ms/step - loss: 0.1433 - accuracy: 0.9487 - val_loss: 0.1699 - val_accuracy: 0.9423\n",
      "Epoch 12/20\n",
      "176/176 [==============================] - 33s 187ms/step - loss: 0.1240 - accuracy: 0.9560 - val_loss: 0.1683 - val_accuracy: 0.9439\n",
      "Epoch 13/20\n",
      "176/176 [==============================] - 33s 185ms/step - loss: 0.1173 - accuracy: 0.9586 - val_loss: 0.1725 - val_accuracy: 0.9317\n",
      "Epoch 14/20\n",
      "176/176 [==============================] - 38s 216ms/step - loss: 0.1251 - accuracy: 0.9561 - val_loss: 0.1779 - val_accuracy: 0.9460\n",
      "Epoch 15/20\n",
      "176/176 [==============================] - 32s 181ms/step - loss: 0.0921 - accuracy: 0.9680 - val_loss: 0.1379 - val_accuracy: 0.9549\n",
      "Epoch 16/20\n",
      "176/176 [==============================] - 33s 187ms/step - loss: 0.0868 - accuracy: 0.9698 - val_loss: 0.1370 - val_accuracy: 0.9509\n",
      "Epoch 17/20\n",
      "176/176 [==============================] - 33s 185ms/step - loss: 0.0734 - accuracy: 0.9752 - val_loss: 0.1315 - val_accuracy: 0.9571\n",
      "Epoch 18/20\n",
      "176/176 [==============================] - 33s 188ms/step - loss: 0.0693 - accuracy: 0.9764 - val_loss: 0.1336 - val_accuracy: 0.9559\n",
      "Epoch 19/20\n",
      "176/176 [==============================] - 33s 186ms/step - loss: 0.0716 - accuracy: 0.9743 - val_loss: 0.1325 - val_accuracy: 0.9588\n",
      "Epoch 20/20\n",
      "176/176 [==============================] - 32s 184ms/step - loss: 0.0786 - accuracy: 0.9712 - val_loss: 0.1508 - val_accuracy: 0.9451\n"
     ]
    }
   ],
   "source": [
    "#compile model\n",
    "model.compile(loss = 'categorical_crossentropy', optimizer = 'adam', metrics = ['accuracy'])\n",
    "\n",
    "#fit the model on the training and testing sets\n",
    "history = model.fit(x_train, y_train, epochs = 20, batch_size = 128, validation_data = (x_test, y_test))"
   ]
  },
  {
   "cell_type": "markdown",
   "id": "b0e10a82",
   "metadata": {},
   "source": [
    "## 7. Evaluate training loss vs validation loss"
   ]
  },
  {
   "cell_type": "code",
   "execution_count": 166,
   "id": "c81abb83",
   "metadata": {},
   "outputs": [
    {
     "data": {
      "image/png": "[encoded data removed]",
      "text/plain": [
       "<Figure size 432x288 with 1 Axes>"
      ]
     },
     "metadata": {
      "needs_background": "light"
     },
     "output_type": "display_data"
    }
   ],
   "source": [
    "#check the loss\n",
    "plt.plot(history.history['loss'], color = 'r')\n",
    "plt.plot(history.history['val_loss'], color = 'b')\n",
    "plt.xlabel('Number of Epochs')\n",
    "plt.ylabel('Loss')\n",
    "plt.legend(['Train', 'Test'], loc = 'upper right')\n",
    "plt.show()"
   ]
  },
  {
   "cell_type": "markdown",
   "id": "04074d8e",
   "metadata": {},
   "source": [
    "## 8. Evaluate training accuracy vs validation accuracy"
   ]
  },
  {
   "cell_type": "code",
   "execution_count": 167,
   "id": "97bbaf6e",
   "metadata": {},
   "outputs": [
    {
     "data": {
      "image/png": "[encoded data removed]",
      "text/plain": [
       "<Figure size 432x288 with 1 Axes>"
      ]
     },
     "metadata": {
      "needs_background": "light"
     },
     "output_type": "display_data"
    }
   ],
   "source": [
    "#check the accuracy\n",
    "plt.plot(history.history['accuracy'], color = 'r')\n",
    "plt.plot(history.history['val_accuracy'], color = 'b')\n",
    "plt.xlabel('Number of Epochs')\n",
    "plt.ylabel('Accuracy')\n",
    "plt.legend(['Train', 'Test'], loc = 'lower right')\n",
    "plt.show()"
   ]
  },
  {
   "cell_type": "markdown",
   "id": "7c265215",
   "metadata": {},
   "source": [
    "## 9. Display Accuracy of Model"
   ]
  },
  {
   "cell_type": "code",
   "execution_count": 168,
   "id": "d468c702",
   "metadata": {},
   "outputs": [
    {
     "name": "stdout",
     "output_type": "stream",
     "text": [
      "235/235 [==============================] - 3s 12ms/step - loss: 0.1508 - accuracy: 0.9451\n",
      "accuracy of model:  0.9450666904449463\n"
     ]
    }
   ],
   "source": [
    "model_accuracy = model.evaluate(x_test,y_test)\n",
    "print(\"accuracy of model: \", model_accuracy[1])"
   ]
  },
  {
   "cell_type": "code",
   "execution_count": null,
   "id": "45b5adfc",
   "metadata": {},
   "outputs": [],
   "source": []
  }
 ],
 "metadata": {
  "kernelspec": {
   "display_name": "shapes_env",
   "language": "python",
   "name": "shapes_env"
  },
  "language_info": {
   "codemirror_mode": {
    "name": "ipython",
    "version": 3
   },
   "file_extension": ".py",
   "mimetype": "text/x-python",
   "name": "python",
   "nbconvert_exporter": "python",
   "pygments_lexer": "ipython3",
   "version": "3.10.8"
  }
 },
 "nbformat": 4,
 "nbformat_minor": 5
}
