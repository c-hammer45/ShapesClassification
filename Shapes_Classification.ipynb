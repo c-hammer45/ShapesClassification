{
 "cells": [
  {
   "cell_type": "markdown",
   "id": "da4158ef",
   "metadata": {},
   "source": [
    "# Classification of Images of Geometric Shapes"
   ]
  },
  {
   "cell_type": "markdown",
   "id": "5b730402",
   "metadata": {},
   "source": [
    "## 1. Import necessary packages"
   ]
  },
  {
   "cell_type": "code",
   "execution_count": 18,
   "id": "223200ec",
   "metadata": {},
   "outputs": [],
   "source": [
    "import pandas as pd\n",
    "import numpy as np\n",
    "import os\n",
    "import matplotlib.pyplot as plt\n",
    "from matplotlib import image as mpimg\n",
    "import cv2\n",
    "\n",
    "from keras.utils import to_categorical, load_img\n",
    "from keras.layers import Dense,Conv2D,Flatten,MaxPool2D,Dropout\n",
    "from keras.models import Sequential\n",
    "from keras.callbacks import EarlyStopping\n",
    "from keras.regularizers import l2\n",
    "from keras.preprocessing.image import ImageDataGenerator\n",
    "\n",
    "from sklearn.utils import shuffle\n",
    "from sklearn.model_selection import train_test_split"
   ]
  },
  {
   "cell_type": "markdown",
   "id": "2f36c679",
   "metadata": {},
   "source": [
    "## 2. Load in the data"
   ]
  },
  {
   "cell_type": "code",
   "execution_count": 19,
   "id": "79fdd636",
   "metadata": {
    "scrolled": true
   },
   "outputs": [
    {
     "name": "stdout",
     "output_type": "stream",
     "text": [
      "(100, 100)\n"
     ]
    },
    {
     "data": {
      "image/png": "[encoded data removed]",
      "text/plain": [
       "<Figure size 432x288 with 1 Axes>"
      ]
     },
     "metadata": {
      "needs_background": "light"
     },
     "output_type": "display_data"
    }
   ],
   "source": [
    "data_direc = 'geometric shapes dataset'\n",
    "classes = []\n",
    "#Obtain the name of the class directories we will work with\n",
    "for i in os.listdir(data_direc):\n",
    "    classes.append(i)\n",
    "\n",
    "#read in images from separate class directories\n",
    "data = []\n",
    "class_labels = []\n",
    "scale_factor = 0.5\n",
    "\n",
    "label = 0\n",
    "for i in classes:\n",
    "    path = data_direc+'/'+str(i)\n",
    "    images = os.listdir(path)\n",
    "    for img in images:\n",
    "        image = cv2.imread(path+'/'+img,0) #read in the image in greyscale to reduce computation time\n",
    "        size = (int(image.shape[1] * scale_factor), int(image.shape[0] * scale_factor)) \n",
    "        image = cv2.resize(image, size, interpolation=cv2.INTER_AREA) #resize using aspect ratio\n",
    "        image = np.array(image)\n",
    "        data.append(image) #add image to dataset\n",
    "        class_labels.append(label) #add associated integer label to class_labels list\n",
    "    label = label + 1\n",
    "\n",
    "plt.imshow(data[29999], cmap='gray')\n",
    "print(data[29999].shape)"
   ]
  },
  {
   "cell_type": "markdown",
   "id": "6714534d",
   "metadata": {},
   "source": [
    "## 3. Split data into training and testing"
   ]
  },
  {
   "cell_type": "code",
   "execution_count": 56,
   "id": "35da7eed",
   "metadata": {},
   "outputs": [
    {
     "name": "stdout",
     "output_type": "stream",
     "text": [
      "(24000, 100, 100, 1)\n",
      "(6000, 100, 100, 1)\n",
      "(24000, 3)\n",
      "(6000, 3)\n"
     ]
    }
   ],
   "source": [
    "#Convert images and labels to numpy arrays\n",
    "training_images = np.array(data)\n",
    "training_labels = np.array(class_labels)\n",
    "\n",
    "#Convert labels into One-Hot Encoded labels\n",
    "training_labels = to_categorical(training_labels, num_classes = 3)\n",
    "\n",
    "#Split into training and testing data\n",
    "x_train, x_test, y_train, y_test = train_test_split(training_images, training_labels,   \n",
    "                                                    test_size = 0.2, random_state = 42, shuffle=True)\n",
    "\n",
    "#Regularize images to ease computation\n",
    "x_train = x_train/255\n",
    "x_test = x_test/255\n",
    "\n",
    "#Reshape, adding a channels dimension\n",
    "x_train = x_train.reshape(-1,100,100,1)\n",
    "x_test = x_test.reshape(-1,100,100,1)\n",
    "\n",
    "#Verify dimensions of training and testing sets\n",
    "print(x_train.shape)\n",
    "print(x_test.shape)\n",
    "print(y_train.shape)\n",
    "print(y_test.shape)"
   ]
  },
  {
   "cell_type": "markdown",
   "id": "a71e3352",
   "metadata": {},
   "source": [
    "## 4. Convolutional Neural Network Setup"
   ]
  },
  {
   "cell_type": "code",
   "execution_count": 66,
   "id": "acb5f937",
   "metadata": {},
   "outputs": [],
   "source": [
    "model = Sequential()\n",
    "model.add(Conv2D(filters = 16, kernel_size = 3, padding = \"same\", activation = \"relu\", input_shape = (100,100,1)))\n",
    "model.add(MaxPool2D(pool_size = 2))\n",
    "model.add(Conv2D(filters = 32, kernel_size = 3, padding = \"same\", activation = \"relu\"))\n",
    "model.add(MaxPool2D(pool_size = 2))\n",
    "model.add(Conv2D(filters = 64, kernel_size = 3, padding = \"same\", activation = \"relu\"))\n",
    "model.add(MaxPool2D(pool_size = 2))\n",
    "\n",
    "#fully connected neural network\n",
    "model.add(Flatten())\n",
    "model.add(Dense(64, activation = \"relu\"))\n",
    "model.add(Dropout(0.2))\n",
    "model.add(Dense(3, activation = \"softmax\"))"
   ]
  },
  {
   "cell_type": "markdown",
   "id": "795e0476",
   "metadata": {},
   "source": [
    "## 5. Compile and fit the model"
   ]
  },
  {
   "cell_type": "code",
   "execution_count": 67,
   "id": "7870216c",
   "metadata": {
    "scrolled": false
   },
   "outputs": [
    {
     "name": "stdout",
     "output_type": "stream",
     "text": [
      "Epoch 1/20\n",
      "188/188 [==============================] - 37s 192ms/step - loss: 1.0079 - accuracy: 0.4692 - val_loss: 0.9097 - val_accuracy: 0.5593\n",
      "Epoch 2/20\n",
      "188/188 [==============================] - 31s 166ms/step - loss: 0.8235 - accuracy: 0.6050 - val_loss: 0.7053 - val_accuracy: 0.6463\n",
      "Epoch 3/20\n",
      "188/188 [==============================] - 25s 131ms/step - loss: 0.6323 - accuracy: 0.7141 - val_loss: 0.5351 - val_accuracy: 0.7618\n",
      "Epoch 4/20\n",
      "188/188 [==============================] - 27s 141ms/step - loss: 0.4890 - accuracy: 0.7889 - val_loss: 0.4399 - val_accuracy: 0.8150\n",
      "Epoch 5/20\n",
      "188/188 [==============================] - 29s 152ms/step - loss: 0.4050 - accuracy: 0.8316 - val_loss: 0.3326 - val_accuracy: 0.8672\n",
      "Epoch 6/20\n",
      "188/188 [==============================] - 37s 194ms/step - loss: 0.3408 - accuracy: 0.8587 - val_loss: 0.2949 - val_accuracy: 0.8962\n",
      "Epoch 7/20\n",
      "188/188 [==============================] - 31s 164ms/step - loss: 0.2910 - accuracy: 0.8831 - val_loss: 0.2578 - val_accuracy: 0.9008\n",
      "Epoch 8/20\n",
      "188/188 [==============================] - 28s 149ms/step - loss: 0.2571 - accuracy: 0.8967 - val_loss: 0.2369 - val_accuracy: 0.9042\n",
      "Epoch 9/20\n",
      "188/188 [==============================] - 26s 138ms/step - loss: 0.2392 - accuracy: 0.9059 - val_loss: 0.2194 - val_accuracy: 0.9170\n",
      "Epoch 10/20\n",
      "188/188 [==============================] - 32s 173ms/step - loss: 0.1992 - accuracy: 0.9231 - val_loss: 0.1905 - val_accuracy: 0.9377\n",
      "Epoch 11/20\n",
      "188/188 [==============================] - 36s 192ms/step - loss: 0.1823 - accuracy: 0.9287 - val_loss: 0.1841 - val_accuracy: 0.9330\n",
      "Epoch 12/20\n",
      "188/188 [==============================] - 29s 153ms/step - loss: 0.1643 - accuracy: 0.9382 - val_loss: 0.1567 - val_accuracy: 0.9467\n",
      "Epoch 13/20\n",
      "188/188 [==============================] - 26s 137ms/step - loss: 0.1526 - accuracy: 0.9416 - val_loss: 0.1699 - val_accuracy: 0.9398\n",
      "Epoch 14/20\n",
      "188/188 [==============================] - 27s 141ms/step - loss: 0.1351 - accuracy: 0.9484 - val_loss: 0.1448 - val_accuracy: 0.9468\n",
      "Epoch 15/20\n",
      "188/188 [==============================] - 36s 191ms/step - loss: 0.1254 - accuracy: 0.9534 - val_loss: 0.1344 - val_accuracy: 0.9587\n",
      "Epoch 16/20\n",
      "188/188 [==============================] - 34s 183ms/step - loss: 0.1245 - accuracy: 0.9543 - val_loss: 0.1309 - val_accuracy: 0.9608\n",
      "Epoch 17/20\n",
      "188/188 [==============================] - 25s 135ms/step - loss: 0.1064 - accuracy: 0.9608 - val_loss: 0.1228 - val_accuracy: 0.9595\n",
      "Epoch 18/20\n",
      "188/188 [==============================] - 29s 153ms/step - loss: 0.1007 - accuracy: 0.9620 - val_loss: 0.1233 - val_accuracy: 0.9605\n",
      "Epoch 19/20\n",
      "188/188 [==============================] - 31s 165ms/step - loss: 0.0982 - accuracy: 0.9634 - val_loss: 0.1077 - val_accuracy: 0.9667\n",
      "Epoch 20/20\n",
      "188/188 [==============================] - 37s 196ms/step - loss: 0.0930 - accuracy: 0.9648 - val_loss: 0.1004 - val_accuracy: 0.9672\n"
     ]
    }
   ],
   "source": [
    "#compile model\n",
    "model.compile(loss = 'categorical_crossentropy', optimizer = 'adam', metrics = ['accuracy'])\n",
    "\n",
    "#fit the model on the training and testing sets\n",
    "history = model.fit(x_train, y_train, batch_size = 128, epochs = 20, validation_data = (x_test, y_test))"
   ]
  },
  {
   "cell_type": "markdown",
   "id": "2d8f08b4",
   "metadata": {},
   "source": [
    "## 6. Evaluate training loss vs validation loss"
   ]
  },
  {
   "cell_type": "code",
   "execution_count": 72,
   "id": "c81abb83",
   "metadata": {},
   "outputs": [
    {
     "data": {
      "image/png": "[encoded data removed]",
      "text/plain": [
       "<Figure size 432x288 with 1 Axes>"
      ]
     },
     "metadata": {
      "needs_background": "light"
     },
     "output_type": "display_data"
    }
   ],
   "source": [
    "#check the loss\n",
    "plt.plot(history.history['loss'], color = 'r')\n",
    "plt.plot(history.history['val_loss'], color = 'g')\n",
    "plt.xlabel('Number of Epochs')\n",
    "plt.ylabel('Loss')\n",
    "plt.legend(['Train', 'Test'], loc = 'upper right')\n",
    "plt.show()"
   ]
  },
  {
   "cell_type": "markdown",
   "id": "74347347",
   "metadata": {},
   "source": [
    "## 7. Evaluate training accuracy vs validation accuracy"
   ]
  },
  {
   "cell_type": "code",
   "execution_count": 73,
   "id": "825423ff",
   "metadata": {
    "scrolled": true
   },
   "outputs": [
    {
     "data": {
      "image/png": "[encoded data removed]",
      "text/plain": [
       "<Figure size 432x288 with 1 Axes>"
      ]
     },
     "metadata": {
      "needs_background": "light"
     },
     "output_type": "display_data"
    }
   ],
   "source": [
    "#check the accuracy\n",
    "plt.plot(history.history['accuracy'], color = 'r')\n",
    "plt.plot(history.history['val_accuracy'], color = 'g')\n",
    "plt.xlabel('Number of Epochs')\n",
    "plt.ylabel('Accuracy')\n",
    "plt.legend(['Train', 'Test'], loc = 'lower right')\n",
    "plt.show()"
   ]
  },
  {
   "cell_type": "markdown",
   "id": "fed833a0",
   "metadata": {},
   "source": [
    "## 8. Display Accuracy of Model"
   ]
  },
  {
   "cell_type": "code",
   "execution_count": 71,
   "id": "d468c702",
   "metadata": {},
   "outputs": [
    {
     "name": "stdout",
     "output_type": "stream",
     "text": [
      "accuracy of model:  0.9671666622161865\n"
     ]
    }
   ],
   "source": [
    "model_accuracy = model.evaluate(x_test,y_test, verbose = 0)\n",
    "print(\"accuracy of model: \", model_accuracy[1])"
   ]
  },
  {
   "cell_type": "code",
   "execution_count": null,
   "id": "45b5adfc",
   "metadata": {},
   "outputs": [],
   "source": []
  }
 ],
 "metadata": {
  "kernelspec": {
   "display_name": "shapes_env",
   "language": "python",
   "name": "shapes_env"
  },
  "language_info": {
   "codemirror_mode": {
    "name": "ipython",
    "version": 3
   },
   "file_extension": ".py",
   "mimetype": "text/x-python",
   "name": "python",
   "nbconvert_exporter": "python",
   "pygments_lexer": "ipython3",
   "version": "3.10.8"
  }
 },
 "nbformat": 4,
 "nbformat_minor": 5
}
