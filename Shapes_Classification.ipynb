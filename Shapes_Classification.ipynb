{
 "cells": [
  {
   "cell_type": "markdown",
   "id": "da4158ef",
   "metadata": {},
   "source": [
    "# Classification of Images of Geometric Shapes"
   ]
  },
  {
   "cell_type": "markdown",
   "id": "5b730402",
   "metadata": {},
   "source": [
    "## 1. Import necessary packages"
   ]
  },
  {
   "cell_type": "code",
   "execution_count": 1,
   "id": "223200ec",
   "metadata": {},
   "outputs": [],
   "source": [
    "import pandas as pd\n",
    "import numpy as np\n",
    "import os\n",
    "import matplotlib.pyplot as plt\n",
    "from matplotlib import image as mpimg\n",
    "import cv2\n",
    "\n",
    "from keras.utils import to_categorical, load_img\n",
    "from keras.layers import Dense,Conv2D,Flatten,MaxPool2D,Dropout\n",
    "from keras.models import Sequential\n",
    "\n",
    "from sklearn.utils import shuffle\n",
    "from sklearn.model_selection import train_test_split"
   ]
  },
  {
   "cell_type": "markdown",
   "id": "2f36c679",
   "metadata": {},
   "source": [
    "## 2. Load in the data"
   ]
  },
  {
   "cell_type": "code",
   "execution_count": 2,
   "id": "79fdd636",
   "metadata": {
    "scrolled": true
   },
   "outputs": [
    {
     "name": "stdout",
     "output_type": "stream",
     "text": [
      "(100, 100)\n"
     ]
    },
    {
     "data": {
      "image/png": "[encoded data removed]",
      "text/plain": [
       "<Figure size 432x288 with 1 Axes>"
      ]
     },
     "metadata": {
      "needs_background": "light"
     },
     "output_type": "display_data"
    }
   ],
   "source": [
    "data_direc = 'geometric shapes dataset'\n",
    "classes = []\n",
    "#Obtain the name of the class directories we will work with\n",
    "for i in os.listdir(data_direc):\n",
    "    classes.append(i)\n",
    "\n",
    "#read in images from separate class directories\n",
    "data = []\n",
    "class_labels = []\n",
    "scale_factor = 0.5\n",
    "\n",
    "label = 0\n",
    "for i in classes:\n",
    "    path = data_direc+'/'+str(i)\n",
    "    images = os.listdir(path)\n",
    "    for img in images:\n",
    "        image = cv2.imread(path+'/'+img,0) #read in the image in greyscale to reduce computation time\n",
    "        size = (int(image.shape[1] * scale_factor), int(image.shape[0] * scale_factor)) \n",
    "        image = cv2.resize(image, size, interpolation=cv2.INTER_LINEAR) #resize using aspect ratio\n",
    "        image = np.array(image)\n",
    "        data.append(image) #add image to dataset\n",
    "        class_labels.append(label) #add associated integer label to class_labels list\n",
    "    label = label + 1\n",
    "\n",
    "plt.imshow(data[10001], cmap='gray')\n",
    "print(data[20000].shape)"
   ]
  },
  {
   "cell_type": "markdown",
   "id": "6714534d",
   "metadata": {},
   "source": [
    "## 3. Split data into training and testing"
   ]
  },
  {
   "cell_type": "code",
   "execution_count": 65,
   "id": "35da7eed",
   "metadata": {},
   "outputs": [
    {
     "name": "stdout",
     "output_type": "stream",
     "text": [
      "(22500, 100, 100, 1)\n",
      "(7500, 100, 100, 1)\n",
      "(22500, 3)\n",
      "(7500, 3)\n"
     ]
    }
   ],
   "source": [
    "#Convert images and labels to numpy arrays\n",
    "training_images = np.array(data)\n",
    "training_labels = np.array(class_labels)\n",
    "\n",
    "#Convert labels into One-Hot Encoded labels\n",
    "training_labels = to_categorical(training_labels, num_classes = 3)\n",
    "\n",
    "#Split into training and testing data\n",
    "x_train, x_test, y_train, y_test = train_test_split(training_images, training_labels,   \n",
    "                                                    test_size = 0.25, random_state = 42, shuffle=True)\n",
    "\n",
    "#Regularize images to ease computation\n",
    "x_train = x_train/255\n",
    "x_test = x_test/255\n",
    "\n",
    "#Reshape, adding a channels dimension\n",
    "x_train = x_train.reshape(-1,100,100,1)\n",
    "x_test = x_test.reshape(-1,100,100,1)\n",
    "\n",
    "#Verify dimensions of training and testing sets\n",
    "print(x_train.shape)\n",
    "print(x_test.shape)\n",
    "print(y_train.shape)\n",
    "print(y_test.shape)"
   ]
  },
  {
   "cell_type": "markdown",
   "id": "a71e3352",
   "metadata": {},
   "source": [
    "## 4. Convolutional Neural Network Setup"
   ]
  },
  {
   "cell_type": "code",
   "execution_count": null,
   "id": "acb5f937",
   "metadata": {},
   "outputs": [],
   "source": [
    "#just testing github, learning slowly but surely"
   ]
  }
 ],
 "metadata": {
  "kernelspec": {
   "display_name": "shapes_env",
   "language": "python",
   "name": "shapes_env"
  },
  "language_info": {
   "codemirror_mode": {
    "name": "ipython",
    "version": 3
   },
   "file_extension": ".py",
   "mimetype": "text/x-python",
   "name": "python",
   "nbconvert_exporter": "python",
   "pygments_lexer": "ipython3",
   "version": "3.10.8"
  }
 },
 "nbformat": 4,
 "nbformat_minor": 5
}
