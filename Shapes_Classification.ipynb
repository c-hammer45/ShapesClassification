{
 "cells": [
  {
   "cell_type": "markdown",
   "id": "da4158ef",
   "metadata": {},
   "source": [
    "# Classification of Images of Geometric Shapes"
   ]
  },
  {
   "cell_type": "markdown",
   "id": "5b730402",
   "metadata": {},
   "source": [
    "## 1. Import necessary packages"
   ]
  },
  {
   "cell_type": "code",
   "execution_count": 3,
   "id": "223200ec",
   "metadata": {},
   "outputs": [],
   "source": [
    "import pandas as pd\n",
    "import numpy as np\n",
    "import os\n",
    "import matplotlib.pyplot as plt\n",
    "from matplotlib import image as mpimg\n",
    "import cv2\n",
    "\n",
    "from keras.utils import to_categorical, load_img\n",
    "from keras.layers import Dense,Conv2D,Flatten,MaxPool2D,Dropout\n",
    "from keras.models import Sequential\n",
    "\n",
    "from sklearn.utils import shuffle\n",
    "from sklearn.model_selection import train_test_split"
   ]
  },
  {
   "cell_type": "markdown",
   "id": "2f36c679",
   "metadata": {},
   "source": [
    "## 2. Load in the data"
   ]
  },
  {
   "cell_type": "code",
   "execution_count": 4,
   "id": "79fdd636",
   "metadata": {
    "scrolled": true
   },
   "outputs": [
    {
     "name": "stdout",
     "output_type": "stream",
     "text": [
      "(100, 100)\n"
     ]
    },
    {
     "data": {
      "image/png": "[encoded data removed]",
      "text/plain": [
       "<Figure size 432x288 with 1 Axes>"
      ]
     },
     "metadata": {
      "needs_background": "light"
     },
     "output_type": "display_data"
    }
   ],
   "source": [
    "data_direc = 'geometric shapes dataset'\n",
    "classes = []\n",
    "#Obtain the name of the class directories we will work with\n",
    "for i in os.listdir(data_direc):\n",
    "    classes.append(i)\n",
    "\n",
    "#read in images from separate class directories\n",
    "data = []\n",
    "class_labels = []\n",
    "scale_factor = 0.5\n",
    "\n",
    "label = 0\n",
    "for i in classes:\n",
    "    path = data_direc+'/'+str(i)\n",
    "    images = os.listdir(path)\n",
    "    for img in images:\n",
    "        image = cv2.imread(path+'/'+img,0) #read in the image in greyscale to reduce computation time\n",
    "        size = (int(image.shape[1] * scale_factor), int(image.shape[0] * scale_factor)) \n",
    "        image = cv2.resize(image, size, interpolation=cv2.INTER_AREA) #resize using aspect ratio\n",
    "        image = np.array(image)\n",
    "        data.append(image) #add image to dataset\n",
    "        class_labels.append(label) #add associated integer label to class_labels list\n",
    "    label = label + 1\n",
    "\n",
    "plt.imshow(data[29999], cmap='gray')\n",
    "print(data[100].shape)"
   ]
  },
  {
   "cell_type": "markdown",
   "id": "6714534d",
   "metadata": {},
   "source": [
    "## 3. Split data into training and testing"
   ]
  },
  {
   "cell_type": "code",
   "execution_count": 5,
   "id": "35da7eed",
   "metadata": {},
   "outputs": [
    {
     "name": "stdout",
     "output_type": "stream",
     "text": [
      "(22500, 100, 100, 1)\n",
      "(7500, 100, 100, 1)\n",
      "(22500, 3)\n",
      "(7500, 3)\n"
     ]
    }
   ],
   "source": [
    "#Convert images and labels to numpy arrays\n",
    "training_images = np.array(data)\n",
    "training_labels = np.array(class_labels)\n",
    "\n",
    "#Convert labels into One-Hot Encoded labels\n",
    "training_labels = to_categorical(training_labels, num_classes = 3)\n",
    "\n",
    "#Split into training and testing data\n",
    "x_train, x_test, y_train, y_test = train_test_split(training_images, training_labels,   \n",
    "                                                    test_size = 0.25, random_state = 42, shuffle=True)\n",
    "\n",
    "#Regularize images to ease computation\n",
    "x_train = x_train/255\n",
    "x_test = x_test/255\n",
    "\n",
    "#Reshape, adding a channels dimension\n",
    "x_train = x_train.reshape(-1,100,100,1)\n",
    "x_test = x_test.reshape(-1,100,100,1)\n",
    "\n",
    "#Verify dimensions of training and testing sets\n",
    "print(x_train.shape)\n",
    "print(x_test.shape)\n",
    "print(y_train.shape)\n",
    "print(y_test.shape)"
   ]
  },
  {
   "cell_type": "code",
   "execution_count": 6,
   "id": "a62be85f",
   "metadata": {},
   "outputs": [],
   "source": [
    "#add data augmentation to prevent overfitting"
   ]
  },
  {
   "cell_type": "markdown",
   "id": "a71e3352",
   "metadata": {},
   "source": [
    "## 4. Convolutional Neural Network Setup"
   ]
  },
  {
   "cell_type": "code",
   "execution_count": 7,
   "id": "acb5f937",
   "metadata": {},
   "outputs": [],
   "source": [
    "#TO DO: add dropouts/l1 or l2 regularization to help prevent overfitting\n",
    "model = Sequential()\n",
    "model.add(Conv2D(filters = 8, kernel_size = 2, padding = \"same\", activation = \"relu\", input_shape = (100,100,1)))\n",
    "model.add(MaxPool2D(pool_size = 2))\n",
    "model.add(Conv2D(filters = 16, kernel_size = 2, padding = \"same\", activation = \"relu\"))\n",
    "model.add(MaxPool2D(pool_size = 2))\n",
    "model.add(Conv2D(filters = 32, kernel_size = 2, padding = \"same\", activation = \"relu\"))\n",
    "model.add(MaxPool2D(pool_size = 2))\n",
    "\n",
    "#fully connected neural network\n",
    "model.add(Flatten())\n",
    "model.add(Dense(256, activation = \"relu\"))\n",
    "model.add(Dense(3, activation = \"softmax\"))"
   ]
  },
  {
   "cell_type": "markdown",
   "id": "e28e99ee",
   "metadata": {},
   "source": [
    "## 5. Compile and fit the model"
   ]
  },
  {
   "cell_type": "code",
   "execution_count": 8,
   "id": "8c6be7e7",
   "metadata": {
    "scrolled": false
   },
   "outputs": [
    {
     "name": "stdout",
     "output_type": "stream",
     "text": [
      "Epoch 1/10\n",
      "44/44 [==============================] - 11s 234ms/step - loss: 1.0953 - accuracy: 0.4025 - val_loss: 1.0212 - val_accuracy: 0.5160\n",
      "Epoch 2/10\n",
      "44/44 [==============================] - 11s 240ms/step - loss: 0.9886 - accuracy: 0.5117 - val_loss: 0.9644 - val_accuracy: 0.5329\n",
      "Epoch 3/10\n",
      "44/44 [==============================] - 11s 250ms/step - loss: 0.9483 - accuracy: 0.5472 - val_loss: 0.9376 - val_accuracy: 0.5613\n",
      "Epoch 4/10\n",
      "44/44 [==============================] - 11s 258ms/step - loss: 0.9175 - accuracy: 0.5703 - val_loss: 0.9015 - val_accuracy: 0.5772\n",
      "Epoch 5/10\n",
      "44/44 [==============================] - 11s 261ms/step - loss: 0.8723 - accuracy: 0.5906 - val_loss: 0.8355 - val_accuracy: 0.6148\n",
      "Epoch 6/10\n",
      "44/44 [==============================] - 13s 292ms/step - loss: 0.8061 - accuracy: 0.6183 - val_loss: 0.7698 - val_accuracy: 0.6552\n",
      "Epoch 7/10\n",
      "44/44 [==============================] - 13s 295ms/step - loss: 0.7420 - accuracy: 0.6568 - val_loss: 0.7269 - val_accuracy: 0.6471\n",
      "Epoch 8/10\n",
      "44/44 [==============================] - 12s 286ms/step - loss: 0.6867 - accuracy: 0.6892 - val_loss: 0.6655 - val_accuracy: 0.7199\n",
      "Epoch 9/10\n",
      "44/44 [==============================] - 12s 275ms/step - loss: 0.6284 - accuracy: 0.7241 - val_loss: 0.6476 - val_accuracy: 0.6927\n",
      "Epoch 10/10\n",
      "44/44 [==============================] - 12s 285ms/step - loss: 0.5946 - accuracy: 0.7367 - val_loss: 0.5867 - val_accuracy: 0.7461\n"
     ]
    }
   ],
   "source": [
    "#compile model\n",
    "model.compile(loss = 'categorical_crossentropy', optimizer = 'adam', metrics = ['accuracy'])\n",
    "\n",
    "#fit the model on the training and testing sets\n",
    "history = model.fit(x_train, y_train, epochs = 10, batch_size = 512, validation_data = (x_test, y_test))"
   ]
  },
  {
   "cell_type": "code",
   "execution_count": 9,
   "id": "4317a0b9",
   "metadata": {},
   "outputs": [],
   "source": [
    "#add early stopping to select best epochs"
   ]
  },
  {
   "cell_type": "code",
   "execution_count": 10,
   "id": "0d5bf98c",
   "metadata": {},
   "outputs": [
    {
     "name": "stdout",
     "output_type": "stream",
     "text": [
      "235/235 [==============================] - 1s 5ms/step - loss: 0.5867 - accuracy: 0.7461\n",
      "accuracy of model:  0.7461333274841309\n"
     ]
    }
   ],
   "source": [
    "model_accuracy = model.evaluate(x_test,y_test)\n",
    "print(\"accuracy of model: \", model_accuracy[1])"
   ]
  },
  {
   "cell_type": "code",
   "execution_count": null,
   "id": "0a198ee7",
   "metadata": {},
   "outputs": [],
   "source": []
  }
 ],
 "metadata": {
  "kernelspec": {
   "display_name": "shapes_env",
   "language": "python",
   "name": "shapes_env"
  },
  "language_info": {
   "codemirror_mode": {
    "name": "ipython",
    "version": 3
   },
   "file_extension": ".py",
   "mimetype": "text/x-python",
   "name": "python",
   "nbconvert_exporter": "python",
   "pygments_lexer": "ipython3",
   "version": "3.10.8"
  }
 },
 "nbformat": 4,
 "nbformat_minor": 5
}
